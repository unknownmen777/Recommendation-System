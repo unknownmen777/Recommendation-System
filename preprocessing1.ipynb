{
 "cells": [
  {
   "cell_type": "code",
   "execution_count": 1,
   "id": "ab610b92",
   "metadata": {
    "ExecuteTime": {
     "end_time": "2024-04-28T02:37:00.275579Z",
     "start_time": "2024-04-28T02:37:00.266892Z"
    }
   },
   "outputs": [
    {
     "name": "stderr",
     "output_type": "stream",
     "text": [
      "C:\\Users\\unkno\\AppData\\Local\\Temp\\ipykernel_8544\\2162656668.py:1: DeprecationWarning: \n",
      "Pyarrow will become a required dependency of pandas in the next major release of pandas (pandas 3.0),\n",
      "(to allow more performant data types, such as the Arrow string type, and better interoperability with other libraries)\n",
      "but was not found to be installed on your system.\n",
      "If this would cause problems for you,\n",
      "please provide us feedback at https://github.com/pandas-dev/pandas/issues/54466\n",
      "        \n",
      "  import pandas as pd\n"
     ]
    }
   ],
   "source": [
    "import pandas as pd\n",
    "import numpy as np"
   ]
  },
  {
   "cell_type": "code",
   "execution_count": 2,
   "id": "c70e4d5c",
   "metadata": {
    "ExecuteTime": {
     "end_time": "2024-04-28T02:37:02.747363Z",
     "start_time": "2024-04-28T02:37:02.151080Z"
    }
   },
   "outputs": [
    {
     "data": {
      "text/html": [
       "<div>\n",
       "<style scoped>\n",
       "    .dataframe tbody tr th:only-of-type {\n",
       "        vertical-align: middle;\n",
       "    }\n",
       "\n",
       "    .dataframe tbody tr th {\n",
       "        vertical-align: top;\n",
       "    }\n",
       "\n",
       "    .dataframe thead th {\n",
       "        text-align: right;\n",
       "    }\n",
       "</style>\n",
       "<table border=\"1\" class=\"dataframe\">\n",
       "  <thead>\n",
       "    <tr style=\"text-align: right;\">\n",
       "      <th></th>\n",
       "      <th>anime_id</th>\n",
       "      <th>Name</th>\n",
       "      <th>English name</th>\n",
       "      <th>Other name</th>\n",
       "      <th>Score</th>\n",
       "      <th>Genres</th>\n",
       "      <th>Synopsis</th>\n",
       "      <th>Type</th>\n",
       "      <th>Episodes</th>\n",
       "      <th>Aired</th>\n",
       "      <th>...</th>\n",
       "      <th>Studios</th>\n",
       "      <th>Source</th>\n",
       "      <th>Duration</th>\n",
       "      <th>Rating</th>\n",
       "      <th>Rank</th>\n",
       "      <th>Popularity</th>\n",
       "      <th>Favorites</th>\n",
       "      <th>Scored By</th>\n",
       "      <th>Members</th>\n",
       "      <th>Image URL</th>\n",
       "    </tr>\n",
       "  </thead>\n",
       "  <tbody>\n",
       "    <tr>\n",
       "      <th>0</th>\n",
       "      <td>1</td>\n",
       "      <td>Cowboy Bebop</td>\n",
       "      <td>Cowboy Bebop</td>\n",
       "      <td>カウボーイビバップ</td>\n",
       "      <td>8.75</td>\n",
       "      <td>Action, Award Winning, Sci-Fi</td>\n",
       "      <td>Crime is timeless. By the year 2071, humanity ...</td>\n",
       "      <td>TV</td>\n",
       "      <td>26.0</td>\n",
       "      <td>Apr 3, 1998 to Apr 24, 1999</td>\n",
       "      <td>...</td>\n",
       "      <td>Sunrise</td>\n",
       "      <td>Original</td>\n",
       "      <td>24 min per ep</td>\n",
       "      <td>R - 17+ (violence &amp; profanity)</td>\n",
       "      <td>41.0</td>\n",
       "      <td>43</td>\n",
       "      <td>78525</td>\n",
       "      <td>914193.0</td>\n",
       "      <td>1771505</td>\n",
       "      <td>https://cdn.myanimelist.net/images/anime/4/196...</td>\n",
       "    </tr>\n",
       "    <tr>\n",
       "      <th>1</th>\n",
       "      <td>5</td>\n",
       "      <td>Cowboy Bebop: Tengoku no Tobira</td>\n",
       "      <td>Cowboy Bebop: The Movie</td>\n",
       "      <td>カウボーイビバップ 天国の扉</td>\n",
       "      <td>8.38</td>\n",
       "      <td>Action, Sci-Fi</td>\n",
       "      <td>Another day, another bounty—such is the life o...</td>\n",
       "      <td>Movie</td>\n",
       "      <td>1.0</td>\n",
       "      <td>Sep 1, 2001</td>\n",
       "      <td>...</td>\n",
       "      <td>Bones</td>\n",
       "      <td>Original</td>\n",
       "      <td>1 hr 55 min</td>\n",
       "      <td>R - 17+ (violence &amp; profanity)</td>\n",
       "      <td>189.0</td>\n",
       "      <td>602</td>\n",
       "      <td>1448</td>\n",
       "      <td>206248.0</td>\n",
       "      <td>360978</td>\n",
       "      <td>https://cdn.myanimelist.net/images/anime/1439/...</td>\n",
       "    </tr>\n",
       "  </tbody>\n",
       "</table>\n",
       "<p>2 rows × 24 columns</p>\n",
       "</div>"
      ],
      "text/plain": [
       "   anime_id                             Name             English name  \\\n",
       "0         1                     Cowboy Bebop             Cowboy Bebop   \n",
       "1         5  Cowboy Bebop: Tengoku no Tobira  Cowboy Bebop: The Movie   \n",
       "\n",
       "       Other name Score                         Genres  \\\n",
       "0       カウボーイビバップ  8.75  Action, Award Winning, Sci-Fi   \n",
       "1  カウボーイビバップ 天国の扉  8.38                 Action, Sci-Fi   \n",
       "\n",
       "                                            Synopsis   Type Episodes  \\\n",
       "0  Crime is timeless. By the year 2071, humanity ...     TV     26.0   \n",
       "1  Another day, another bounty—such is the life o...  Movie      1.0   \n",
       "\n",
       "                         Aired  ...  Studios    Source       Duration  \\\n",
       "0  Apr 3, 1998 to Apr 24, 1999  ...  Sunrise  Original  24 min per ep   \n",
       "1                  Sep 1, 2001  ...    Bones  Original    1 hr 55 min   \n",
       "\n",
       "                           Rating   Rank Popularity Favorites Scored By  \\\n",
       "0  R - 17+ (violence & profanity)   41.0         43     78525  914193.0   \n",
       "1  R - 17+ (violence & profanity)  189.0        602      1448  206248.0   \n",
       "\n",
       "   Members                                          Image URL  \n",
       "0  1771505  https://cdn.myanimelist.net/images/anime/4/196...  \n",
       "1   360978  https://cdn.myanimelist.net/images/anime/1439/...  \n",
       "\n",
       "[2 rows x 24 columns]"
      ]
     },
     "execution_count": 2,
     "metadata": {},
     "output_type": "execute_result"
    }
   ],
   "source": [
    "anime = pd.read_csv('dataset/anime-dataset-2023.csv')\n",
    "anime.head(2)"
   ]
  },
  {
   "cell_type": "code",
   "execution_count": 3,
   "id": "da99bea9",
   "metadata": {
    "ExecuteTime": {
     "end_time": "2024-04-28T02:37:03.705864Z",
     "start_time": "2024-04-28T02:37:03.694137Z"
    }
   },
   "outputs": [
    {
     "data": {
      "text/plain": [
       "'https://cdn.myanimelist.net/images/anime/4/19644.jpg'"
      ]
     },
     "execution_count": 3,
     "metadata": {},
     "output_type": "execute_result"
    }
   ],
   "source": [
    "img = list(anime['Image URL'].values)\n",
    "img[0]"
   ]
  },
  {
   "cell_type": "code",
   "execution_count": 4,
   "id": "75abd39a",
   "metadata": {
    "ExecuteTime": {
     "end_time": "2024-04-28T02:37:04.578065Z",
     "start_time": "2024-04-28T02:37:04.558832Z"
    }
   },
   "outputs": [
    {
     "data": {
      "text/plain": [
       "0        https://cdn.myanimelist.net/images/anime/4/196...\n",
       "1        https://cdn.myanimelist.net/images/anime/1439/...\n",
       "2        https://cdn.myanimelist.net/images/anime/7/203...\n",
       "3        https://cdn.myanimelist.net/images/anime/10/19...\n",
       "4        https://cdn.myanimelist.net/images/anime/7/215...\n",
       "                               ...                        \n",
       "24900    https://cdn.myanimelist.net/images/anime/1386/...\n",
       "24901    https://cdn.myanimelist.net/images/anime/1383/...\n",
       "24902    https://cdn.myanimelist.net/images/anime/1130/...\n",
       "24903    https://cdn.myanimelist.net/images/anime/1931/...\n",
       "24904    https://cdn.myanimelist.net/images/anime/1902/...\n",
       "Name: img_url, Length: 24905, dtype: object"
      ]
     },
     "execution_count": 4,
     "metadata": {},
     "output_type": "execute_result"
    }
   ],
   "source": [
    "anime['img_url'] = anime['Image URL']\n",
    "anime['jp_name']= anime['Other name']\n",
    "anime.head(16)\n",
    "anime['img_url']"
   ]
  },
  {
   "cell_type": "code",
   "execution_count": 5,
   "id": "32954d38",
   "metadata": {
    "ExecuteTime": {
     "end_time": "2024-04-28T02:37:41.903980Z",
     "start_time": "2024-04-28T02:37:41.877139Z"
    }
   },
   "outputs": [
    {
     "data": {
      "text/html": [
       "<div>\n",
       "<style scoped>\n",
       "    .dataframe tbody tr th:only-of-type {\n",
       "        vertical-align: middle;\n",
       "    }\n",
       "\n",
       "    .dataframe tbody tr th {\n",
       "        vertical-align: top;\n",
       "    }\n",
       "\n",
       "    .dataframe thead th {\n",
       "        text-align: right;\n",
       "    }\n",
       "</style>\n",
       "<table border=\"1\" class=\"dataframe\">\n",
       "  <thead>\n",
       "    <tr style=\"text-align: right;\">\n",
       "      <th></th>\n",
       "      <th>anime_id</th>\n",
       "      <th>Name</th>\n",
       "      <th>English name</th>\n",
       "      <th>Other name</th>\n",
       "      <th>Score</th>\n",
       "      <th>Genres</th>\n",
       "      <th>Synopsis</th>\n",
       "      <th>Type</th>\n",
       "      <th>Episodes</th>\n",
       "      <th>Aired</th>\n",
       "      <th>...</th>\n",
       "      <th>Duration</th>\n",
       "      <th>Rating</th>\n",
       "      <th>Rank</th>\n",
       "      <th>Popularity</th>\n",
       "      <th>Favorites</th>\n",
       "      <th>Scored By</th>\n",
       "      <th>Members</th>\n",
       "      <th>Image URL</th>\n",
       "      <th>img_url</th>\n",
       "      <th>jp_name</th>\n",
       "    </tr>\n",
       "  </thead>\n",
       "  <tbody>\n",
       "    <tr>\n",
       "      <th>11</th>\n",
       "      <td>21</td>\n",
       "      <td>One Piece</td>\n",
       "      <td>One Piece</td>\n",
       "      <td>ONE PIECE</td>\n",
       "      <td>8.69</td>\n",
       "      <td>Action, Adventure, Fantasy</td>\n",
       "      <td>Gol D. Roger was known as the \"Pirate King,\" t...</td>\n",
       "      <td>TV</td>\n",
       "      <td>UNKNOWN</td>\n",
       "      <td>Oct 20, 1999 to ?</td>\n",
       "      <td>...</td>\n",
       "      <td>24 min</td>\n",
       "      <td>PG-13 - Teens 13 or older</td>\n",
       "      <td>55.0</td>\n",
       "      <td>20</td>\n",
       "      <td>198986</td>\n",
       "      <td>1226493.0</td>\n",
       "      <td>2168904</td>\n",
       "      <td>https://cdn.myanimelist.net/images/anime/6/732...</td>\n",
       "      <td>https://cdn.myanimelist.net/images/anime/6/732...</td>\n",
       "      <td>ONE PIECE</td>\n",
       "    </tr>\n",
       "  </tbody>\n",
       "</table>\n",
       "<p>1 rows × 26 columns</p>\n",
       "</div>"
      ],
      "text/plain": [
       "    anime_id       Name English name Other name Score  \\\n",
       "11        21  One Piece    One Piece  ONE PIECE  8.69   \n",
       "\n",
       "                        Genres  \\\n",
       "11  Action, Adventure, Fantasy   \n",
       "\n",
       "                                             Synopsis Type Episodes  \\\n",
       "11  Gol D. Roger was known as the \"Pirate King,\" t...   TV  UNKNOWN   \n",
       "\n",
       "                Aired  ... Duration                     Rating  Rank  \\\n",
       "11  Oct 20, 1999 to ?  ...   24 min  PG-13 - Teens 13 or older  55.0   \n",
       "\n",
       "   Popularity Favorites  Scored By  Members  \\\n",
       "11         20    198986  1226493.0  2168904   \n",
       "\n",
       "                                            Image URL  \\\n",
       "11  https://cdn.myanimelist.net/images/anime/6/732...   \n",
       "\n",
       "                                              img_url    jp_name  \n",
       "11  https://cdn.myanimelist.net/images/anime/6/732...  ONE PIECE  \n",
       "\n",
       "[1 rows x 26 columns]"
      ]
     },
     "execution_count": 5,
     "metadata": {},
     "output_type": "execute_result"
    }
   ],
   "source": [
    "anime[anime['Name']=='One Piece']"
   ]
  },
  {
   "cell_type": "code",
   "execution_count": 6,
   "id": "a5ec8c84",
   "metadata": {
    "ExecuteTime": {
     "end_time": "2024-04-28T02:37:13.851986Z",
     "start_time": "2024-04-28T02:37:13.823093Z"
    }
   },
   "outputs": [],
   "source": [
    "anime = anime[['anime_id','Name','Genres','Synopsis','Producers','Licensors','Studios','Type','Source','img_url','Rating','Duration','jp_name']]"
   ]
  },
  {
   "cell_type": "code",
   "execution_count": 7,
   "id": "91e2b922",
   "metadata": {
    "ExecuteTime": {
     "end_time": "2024-04-28T02:37:27.096652Z",
     "start_time": "2024-04-28T02:37:27.059059Z"
    }
   },
   "outputs": [
    {
     "data": {
      "text/plain": [
       "anime_id     0\n",
       "Name         0\n",
       "Genres       0\n",
       "Synopsis     0\n",
       "Producers    0\n",
       "Licensors    0\n",
       "Studios      0\n",
       "Type         0\n",
       "Source       0\n",
       "img_url      0\n",
       "Rating       0\n",
       "Duration     0\n",
       "jp_name      0\n",
       "dtype: int64"
      ]
     },
     "execution_count": 7,
     "metadata": {},
     "output_type": "execute_result"
    }
   ],
   "source": [
    "anime.isnull().sum()"
   ]
  },
  {
   "cell_type": "code",
   "execution_count": 8,
   "id": "d1cb9202",
   "metadata": {
    "ExecuteTime": {
     "end_time": "2024-04-18T01:52:10.768071Z",
     "start_time": "2024-04-18T01:52:10.704522Z"
    }
   },
   "outputs": [
    {
     "data": {
      "text/plain": [
       "0"
      ]
     },
     "execution_count": 8,
     "metadata": {},
     "output_type": "execute_result"
    }
   ],
   "source": [
    "anime.duplicated().sum()"
   ]
  },
  {
   "cell_type": "code",
   "execution_count": 9,
   "id": "92ae63c5",
   "metadata": {
    "ExecuteTime": {
     "end_time": "2024-04-18T01:52:10.774921Z",
     "start_time": "2024-04-18T01:52:10.770268Z"
    }
   },
   "outputs": [
    {
     "data": {
      "text/plain": [
       "(24905, 13)"
      ]
     },
     "execution_count": 9,
     "metadata": {},
     "output_type": "execute_result"
    }
   ],
   "source": [
    "anime.shape"
   ]
  },
  {
   "cell_type": "code",
   "execution_count": 10,
   "id": "21cde2f2",
   "metadata": {
    "ExecuteTime": {
     "end_time": "2024-04-18T01:52:10.790923Z",
     "start_time": "2024-04-18T01:52:10.778664Z"
    },
    "scrolled": true
   },
   "outputs": [
    {
     "data": {
      "text/html": [
       "<div>\n",
       "<style scoped>\n",
       "    .dataframe tbody tr th:only-of-type {\n",
       "        vertical-align: middle;\n",
       "    }\n",
       "\n",
       "    .dataframe tbody tr th {\n",
       "        vertical-align: top;\n",
       "    }\n",
       "\n",
       "    .dataframe thead th {\n",
       "        text-align: right;\n",
       "    }\n",
       "</style>\n",
       "<table border=\"1\" class=\"dataframe\">\n",
       "  <thead>\n",
       "    <tr style=\"text-align: right;\">\n",
       "      <th></th>\n",
       "      <th>anime_id</th>\n",
       "      <th>Name</th>\n",
       "      <th>Genres</th>\n",
       "      <th>Synopsis</th>\n",
       "      <th>Producers</th>\n",
       "      <th>Licensors</th>\n",
       "      <th>Studios</th>\n",
       "      <th>Type</th>\n",
       "      <th>Source</th>\n",
       "      <th>img_url</th>\n",
       "      <th>Rating</th>\n",
       "      <th>Duration</th>\n",
       "      <th>jp_name</th>\n",
       "    </tr>\n",
       "  </thead>\n",
       "  <tbody>\n",
       "    <tr>\n",
       "      <th>0</th>\n",
       "      <td>1</td>\n",
       "      <td>Cowboy Bebop</td>\n",
       "      <td>Action, Award Winning, Sci-Fi</td>\n",
       "      <td>Crime is timeless. By the year 2071, humanity ...</td>\n",
       "      <td>Bandai Visual</td>\n",
       "      <td>Funimation, Bandai Entertainment</td>\n",
       "      <td>Sunrise</td>\n",
       "      <td>TV</td>\n",
       "      <td>Original</td>\n",
       "      <td>https://cdn.myanimelist.net/images/anime/4/196...</td>\n",
       "      <td>R - 17+ (violence &amp; profanity)</td>\n",
       "      <td>24 min per ep</td>\n",
       "      <td>カウボーイビバップ</td>\n",
       "    </tr>\n",
       "    <tr>\n",
       "      <th>1</th>\n",
       "      <td>5</td>\n",
       "      <td>Cowboy Bebop: Tengoku no Tobira</td>\n",
       "      <td>Action, Sci-Fi</td>\n",
       "      <td>Another day, another bounty—such is the life o...</td>\n",
       "      <td>Sunrise, Bandai Visual</td>\n",
       "      <td>Sony Pictures Entertainment</td>\n",
       "      <td>Bones</td>\n",
       "      <td>Movie</td>\n",
       "      <td>Original</td>\n",
       "      <td>https://cdn.myanimelist.net/images/anime/1439/...</td>\n",
       "      <td>R - 17+ (violence &amp; profanity)</td>\n",
       "      <td>1 hr 55 min</td>\n",
       "      <td>カウボーイビバップ 天国の扉</td>\n",
       "    </tr>\n",
       "  </tbody>\n",
       "</table>\n",
       "</div>"
      ],
      "text/plain": [
       "   anime_id                             Name                         Genres  \\\n",
       "0         1                     Cowboy Bebop  Action, Award Winning, Sci-Fi   \n",
       "1         5  Cowboy Bebop: Tengoku no Tobira                 Action, Sci-Fi   \n",
       "\n",
       "                                            Synopsis               Producers  \\\n",
       "0  Crime is timeless. By the year 2071, humanity ...           Bandai Visual   \n",
       "1  Another day, another bounty—such is the life o...  Sunrise, Bandai Visual   \n",
       "\n",
       "                          Licensors  Studios   Type    Source  \\\n",
       "0  Funimation, Bandai Entertainment  Sunrise     TV  Original   \n",
       "1       Sony Pictures Entertainment    Bones  Movie  Original   \n",
       "\n",
       "                                             img_url  \\\n",
       "0  https://cdn.myanimelist.net/images/anime/4/196...   \n",
       "1  https://cdn.myanimelist.net/images/anime/1439/...   \n",
       "\n",
       "                           Rating       Duration         jp_name  \n",
       "0  R - 17+ (violence & profanity)  24 min per ep       カウボーイビバップ  \n",
       "1  R - 17+ (violence & profanity)    1 hr 55 min  カウボーイビバップ 天国の扉  "
      ]
     },
     "execution_count": 10,
     "metadata": {},
     "output_type": "execute_result"
    }
   ],
   "source": [
    "anime.head(2)"
   ]
  },
  {
   "cell_type": "code",
   "execution_count": null,
   "id": "05798090",
   "metadata": {
    "ExecuteTime": {
     "end_time": "2024-04-18T01:57:17.319204Z",
     "start_time": "2024-04-18T01:57:17.304771Z"
    }
   },
   "outputs": [],
   "source": []
  },
  {
   "cell_type": "code",
   "execution_count": 11,
   "id": "80233a87",
   "metadata": {
    "ExecuteTime": {
     "end_time": "2024-04-18T01:52:10.806886Z",
     "start_time": "2024-04-18T01:52:10.794511Z"
    }
   },
   "outputs": [
    {
     "data": {
      "text/html": [
       "<div>\n",
       "<style scoped>\n",
       "    .dataframe tbody tr th:only-of-type {\n",
       "        vertical-align: middle;\n",
       "    }\n",
       "\n",
       "    .dataframe tbody tr th {\n",
       "        vertical-align: top;\n",
       "    }\n",
       "\n",
       "    .dataframe thead th {\n",
       "        text-align: right;\n",
       "    }\n",
       "</style>\n",
       "<table border=\"1\" class=\"dataframe\">\n",
       "  <thead>\n",
       "    <tr style=\"text-align: right;\">\n",
       "      <th></th>\n",
       "      <th>Synopsis</th>\n",
       "      <th>Genres</th>\n",
       "      <th>Producers</th>\n",
       "      <th>Studios</th>\n",
       "      <th>Type</th>\n",
       "    </tr>\n",
       "  </thead>\n",
       "  <tbody>\n",
       "    <tr>\n",
       "      <th>0</th>\n",
       "      <td>Crime is timeless. By the year 2071, humanity ...</td>\n",
       "      <td>Action, Award Winning, Sci-Fi</td>\n",
       "      <td>Bandai Visual</td>\n",
       "      <td>Sunrise</td>\n",
       "      <td>TV</td>\n",
       "    </tr>\n",
       "    <tr>\n",
       "      <th>1</th>\n",
       "      <td>Another day, another bounty—such is the life o...</td>\n",
       "      <td>Action, Sci-Fi</td>\n",
       "      <td>Sunrise, Bandai Visual</td>\n",
       "      <td>Bones</td>\n",
       "      <td>Movie</td>\n",
       "    </tr>\n",
       "  </tbody>\n",
       "</table>\n",
       "</div>"
      ],
      "text/plain": [
       "                                            Synopsis  \\\n",
       "0  Crime is timeless. By the year 2071, humanity ...   \n",
       "1  Another day, another bounty—such is the life o...   \n",
       "\n",
       "                          Genres               Producers  Studios   Type  \n",
       "0  Action, Award Winning, Sci-Fi           Bandai Visual  Sunrise     TV  \n",
       "1                 Action, Sci-Fi  Sunrise, Bandai Visual    Bones  Movie  "
      ]
     },
     "execution_count": 11,
     "metadata": {},
     "output_type": "execute_result"
    }
   ],
   "source": [
    "tag = anime[['Synopsis', 'Genres','Producers','Studios','Type']]\n",
    "tag.head(2)"
   ]
  },
  {
   "cell_type": "code",
   "execution_count": 12,
   "id": "291b0a38",
   "metadata": {
    "ExecuteTime": {
     "end_time": "2024-04-18T01:52:10.820914Z",
     "start_time": "2024-04-18T01:52:10.808409Z"
    }
   },
   "outputs": [
    {
     "data": {
      "text/html": [
       "<div>\n",
       "<style scoped>\n",
       "    .dataframe tbody tr th:only-of-type {\n",
       "        vertical-align: middle;\n",
       "    }\n",
       "\n",
       "    .dataframe tbody tr th {\n",
       "        vertical-align: top;\n",
       "    }\n",
       "\n",
       "    .dataframe thead th {\n",
       "        text-align: right;\n",
       "    }\n",
       "</style>\n",
       "<table border=\"1\" class=\"dataframe\">\n",
       "  <thead>\n",
       "    <tr style=\"text-align: right;\">\n",
       "      <th></th>\n",
       "      <th>Name</th>\n",
       "      <th>jp_name</th>\n",
       "      <th>img_url</th>\n",
       "      <th>Genres</th>\n",
       "      <th>Producers</th>\n",
       "      <th>Studios</th>\n",
       "      <th>Type</th>\n",
       "      <th>Rating</th>\n",
       "    </tr>\n",
       "  </thead>\n",
       "  <tbody>\n",
       "    <tr>\n",
       "      <th>0</th>\n",
       "      <td>Cowboy Bebop</td>\n",
       "      <td>カウボーイビバップ</td>\n",
       "      <td>https://cdn.myanimelist.net/images/anime/4/196...</td>\n",
       "      <td>Action, Award Winning, Sci-Fi</td>\n",
       "      <td>Bandai Visual</td>\n",
       "      <td>Sunrise</td>\n",
       "      <td>TV</td>\n",
       "      <td>R - 17+ (violence &amp; profanity)</td>\n",
       "    </tr>\n",
       "  </tbody>\n",
       "</table>\n",
       "</div>"
      ],
      "text/plain": [
       "           Name    jp_name                                            img_url  \\\n",
       "0  Cowboy Bebop  カウボーイビバップ  https://cdn.myanimelist.net/images/anime/4/196...   \n",
       "\n",
       "                          Genres      Producers  Studios Type  \\\n",
       "0  Action, Award Winning, Sci-Fi  Bandai Visual  Sunrise   TV   \n",
       "\n",
       "                           Rating  \n",
       "0  R - 17+ (violence & profanity)  "
      ]
     },
     "execution_count": 12,
     "metadata": {},
     "output_type": "execute_result"
    }
   ],
   "source": [
    "New_Anime = anime[['Name','jp_name','img_url', 'Genres','Producers','Studios','Type','Rating']]\n",
    "New_Anime.head(1)"
   ]
  },
  {
   "cell_type": "code",
   "execution_count": 26,
   "id": "509da945-855c-43fa-9d87-87d34421f79c",
   "metadata": {},
   "outputs": [],
   "source": [
    "New_Anime.to_csv('dataset/data.csv')"
   ]
  },
  {
   "cell_type": "code",
   "execution_count": 13,
   "id": "f961dbfc",
   "metadata": {
    "ExecuteTime": {
     "end_time": "2024-04-18T01:52:10.870928Z",
     "start_time": "2024-04-18T01:52:10.822381Z"
    }
   },
   "outputs": [],
   "source": [
    "anime['tags'] = anime['Synopsis']+anime['Genres']+anime['Producers']+anime['Studios']+anime['Type']"
   ]
  },
  {
   "cell_type": "code",
   "execution_count": 14,
   "id": "66a91bc6",
   "metadata": {
    "ExecuteTime": {
     "end_time": "2024-04-18T01:52:10.886672Z",
     "start_time": "2024-04-18T01:52:10.872298Z"
    }
   },
   "outputs": [
    {
     "data": {
      "text/html": [
       "<div>\n",
       "<style scoped>\n",
       "    .dataframe tbody tr th:only-of-type {\n",
       "        vertical-align: middle;\n",
       "    }\n",
       "\n",
       "    .dataframe tbody tr th {\n",
       "        vertical-align: top;\n",
       "    }\n",
       "\n",
       "    .dataframe thead th {\n",
       "        text-align: right;\n",
       "    }\n",
       "</style>\n",
       "<table border=\"1\" class=\"dataframe\">\n",
       "  <thead>\n",
       "    <tr style=\"text-align: right;\">\n",
       "      <th></th>\n",
       "      <th>anime_id</th>\n",
       "      <th>Name</th>\n",
       "      <th>jp_name</th>\n",
       "      <th>img_url</th>\n",
       "      <th>Rating</th>\n",
       "      <th>Duration</th>\n",
       "      <th>tags</th>\n",
       "    </tr>\n",
       "  </thead>\n",
       "  <tbody>\n",
       "    <tr>\n",
       "      <th>0</th>\n",
       "      <td>1</td>\n",
       "      <td>Cowboy Bebop</td>\n",
       "      <td>カウボーイビバップ</td>\n",
       "      <td>https://cdn.myanimelist.net/images/anime/4/196...</td>\n",
       "      <td>R - 17+ (violence &amp; profanity)</td>\n",
       "      <td>24 min per ep</td>\n",
       "      <td>Crime is timeless. By the year 2071, humanity ...</td>\n",
       "    </tr>\n",
       "    <tr>\n",
       "      <th>1</th>\n",
       "      <td>5</td>\n",
       "      <td>Cowboy Bebop: Tengoku no Tobira</td>\n",
       "      <td>カウボーイビバップ 天国の扉</td>\n",
       "      <td>https://cdn.myanimelist.net/images/anime/1439/...</td>\n",
       "      <td>R - 17+ (violence &amp; profanity)</td>\n",
       "      <td>1 hr 55 min</td>\n",
       "      <td>Another day, another bounty—such is the life o...</td>\n",
       "    </tr>\n",
       "    <tr>\n",
       "      <th>2</th>\n",
       "      <td>6</td>\n",
       "      <td>Trigun</td>\n",
       "      <td>トライガン</td>\n",
       "      <td>https://cdn.myanimelist.net/images/anime/7/203...</td>\n",
       "      <td>PG-13 - Teens 13 or older</td>\n",
       "      <td>24 min per ep</td>\n",
       "      <td>Vash the Stampede is the man with a $$60,000,0...</td>\n",
       "    </tr>\n",
       "    <tr>\n",
       "      <th>3</th>\n",
       "      <td>7</td>\n",
       "      <td>Witch Hunter Robin</td>\n",
       "      <td>Witch Hunter ROBIN (ウイッチハンターロビン)</td>\n",
       "      <td>https://cdn.myanimelist.net/images/anime/10/19...</td>\n",
       "      <td>PG-13 - Teens 13 or older</td>\n",
       "      <td>25 min per ep</td>\n",
       "      <td>Robin Sena is a powerful craft user drafted in...</td>\n",
       "    </tr>\n",
       "    <tr>\n",
       "      <th>4</th>\n",
       "      <td>8</td>\n",
       "      <td>Bouken Ou Beet</td>\n",
       "      <td>冒険王ビィト</td>\n",
       "      <td>https://cdn.myanimelist.net/images/anime/7/215...</td>\n",
       "      <td>PG - Children</td>\n",
       "      <td>23 min per ep</td>\n",
       "      <td>It is the dark century and the people are suff...</td>\n",
       "    </tr>\n",
       "    <tr>\n",
       "      <th>...</th>\n",
       "      <td>...</td>\n",
       "      <td>...</td>\n",
       "      <td>...</td>\n",
       "      <td>...</td>\n",
       "      <td>...</td>\n",
       "      <td>...</td>\n",
       "      <td>...</td>\n",
       "    </tr>\n",
       "    <tr>\n",
       "      <th>24900</th>\n",
       "      <td>55731</td>\n",
       "      <td>Wu Nao Monu</td>\n",
       "      <td>无脑魔女</td>\n",
       "      <td>https://cdn.myanimelist.net/images/anime/1386/...</td>\n",
       "      <td>PG-13 - Teens 13 or older</td>\n",
       "      <td>Unknown</td>\n",
       "      <td>No description available for this anime.Comedy...</td>\n",
       "    </tr>\n",
       "    <tr>\n",
       "      <th>24901</th>\n",
       "      <td>55732</td>\n",
       "      <td>Bu Xing Si: Yuan Qi</td>\n",
       "      <td>捕星司·源起</td>\n",
       "      <td>https://cdn.myanimelist.net/images/anime/1383/...</td>\n",
       "      <td>PG-13 - Teens 13 or older</td>\n",
       "      <td>Unknown</td>\n",
       "      <td>No description available for this anime.Action...</td>\n",
       "    </tr>\n",
       "    <tr>\n",
       "      <th>24902</th>\n",
       "      <td>55733</td>\n",
       "      <td>Di Yi Xulie</td>\n",
       "      <td>第一序列</td>\n",
       "      <td>https://cdn.myanimelist.net/images/anime/1130/...</td>\n",
       "      <td>PG-13 - Teens 13 or older</td>\n",
       "      <td>Unknown</td>\n",
       "      <td>No description available for this anime.Action...</td>\n",
       "    </tr>\n",
       "    <tr>\n",
       "      <th>24903</th>\n",
       "      <td>55734</td>\n",
       "      <td>Bokura no Saishuu Sensou</td>\n",
       "      <td>僕らの最終戦争</td>\n",
       "      <td>https://cdn.myanimelist.net/images/anime/1931/...</td>\n",
       "      <td>PG-13 - Teens 13 or older</td>\n",
       "      <td>3 min</td>\n",
       "      <td>A music video for the song Bokura no Saishuu S...</td>\n",
       "    </tr>\n",
       "    <tr>\n",
       "      <th>24904</th>\n",
       "      <td>55735</td>\n",
       "      <td>Shijuuku Nichi</td>\n",
       "      <td>四十九日</td>\n",
       "      <td>https://cdn.myanimelist.net/images/anime/1902/...</td>\n",
       "      <td>PG-13 - Teens 13 or older</td>\n",
       "      <td>3 min</td>\n",
       "      <td>A music video for the song Shijuuku Nichi by S...</td>\n",
       "    </tr>\n",
       "  </tbody>\n",
       "</table>\n",
       "<p>24905 rows × 7 columns</p>\n",
       "</div>"
      ],
      "text/plain": [
       "       anime_id                             Name  \\\n",
       "0             1                     Cowboy Bebop   \n",
       "1             5  Cowboy Bebop: Tengoku no Tobira   \n",
       "2             6                           Trigun   \n",
       "3             7               Witch Hunter Robin   \n",
       "4             8                   Bouken Ou Beet   \n",
       "...         ...                              ...   \n",
       "24900     55731                      Wu Nao Monu   \n",
       "24901     55732              Bu Xing Si: Yuan Qi   \n",
       "24902     55733                      Di Yi Xulie   \n",
       "24903     55734         Bokura no Saishuu Sensou   \n",
       "24904     55735                   Shijuuku Nichi   \n",
       "\n",
       "                                jp_name  \\\n",
       "0                             カウボーイビバップ   \n",
       "1                        カウボーイビバップ 天国の扉   \n",
       "2                                 トライガン   \n",
       "3      Witch Hunter ROBIN (ウイッチハンターロビン)   \n",
       "4                                冒険王ビィト   \n",
       "...                                 ...   \n",
       "24900                              无脑魔女   \n",
       "24901                            捕星司·源起   \n",
       "24902                              第一序列   \n",
       "24903                           僕らの最終戦争   \n",
       "24904                              四十九日   \n",
       "\n",
       "                                                 img_url  \\\n",
       "0      https://cdn.myanimelist.net/images/anime/4/196...   \n",
       "1      https://cdn.myanimelist.net/images/anime/1439/...   \n",
       "2      https://cdn.myanimelist.net/images/anime/7/203...   \n",
       "3      https://cdn.myanimelist.net/images/anime/10/19...   \n",
       "4      https://cdn.myanimelist.net/images/anime/7/215...   \n",
       "...                                                  ...   \n",
       "24900  https://cdn.myanimelist.net/images/anime/1386/...   \n",
       "24901  https://cdn.myanimelist.net/images/anime/1383/...   \n",
       "24902  https://cdn.myanimelist.net/images/anime/1130/...   \n",
       "24903  https://cdn.myanimelist.net/images/anime/1931/...   \n",
       "24904  https://cdn.myanimelist.net/images/anime/1902/...   \n",
       "\n",
       "                               Rating       Duration  \\\n",
       "0      R - 17+ (violence & profanity)  24 min per ep   \n",
       "1      R - 17+ (violence & profanity)    1 hr 55 min   \n",
       "2           PG-13 - Teens 13 or older  24 min per ep   \n",
       "3           PG-13 - Teens 13 or older  25 min per ep   \n",
       "4                       PG - Children  23 min per ep   \n",
       "...                               ...            ...   \n",
       "24900       PG-13 - Teens 13 or older        Unknown   \n",
       "24901       PG-13 - Teens 13 or older        Unknown   \n",
       "24902       PG-13 - Teens 13 or older        Unknown   \n",
       "24903       PG-13 - Teens 13 or older          3 min   \n",
       "24904       PG-13 - Teens 13 or older          3 min   \n",
       "\n",
       "                                                    tags  \n",
       "0      Crime is timeless. By the year 2071, humanity ...  \n",
       "1      Another day, another bounty—such is the life o...  \n",
       "2      Vash the Stampede is the man with a $$60,000,0...  \n",
       "3      Robin Sena is a powerful craft user drafted in...  \n",
       "4      It is the dark century and the people are suff...  \n",
       "...                                                  ...  \n",
       "24900  No description available for this anime.Comedy...  \n",
       "24901  No description available for this anime.Action...  \n",
       "24902  No description available for this anime.Action...  \n",
       "24903  A music video for the song Bokura no Saishuu S...  \n",
       "24904  A music video for the song Shijuuku Nichi by S...  \n",
       "\n",
       "[24905 rows x 7 columns]"
      ]
     },
     "execution_count": 14,
     "metadata": {},
     "output_type": "execute_result"
    }
   ],
   "source": [
    "Animes = anime[['anime_id','Name','jp_name','img_url','Rating','Duration','tags',]]\n",
    "Animes"
   ]
  },
  {
   "cell_type": "code",
   "execution_count": 15,
   "id": "d1bbd4d7",
   "metadata": {
    "ExecuteTime": {
     "end_time": "2024-04-18T01:52:10.893640Z",
     "start_time": "2024-04-18T01:52:10.888329Z"
    }
   },
   "outputs": [
    {
     "data": {
      "text/plain": [
       "0        https://cdn.myanimelist.net/images/anime/4/196...\n",
       "1        https://cdn.myanimelist.net/images/anime/1439/...\n",
       "2        https://cdn.myanimelist.net/images/anime/7/203...\n",
       "3        https://cdn.myanimelist.net/images/anime/10/19...\n",
       "4        https://cdn.myanimelist.net/images/anime/7/215...\n",
       "                               ...                        \n",
       "24900    https://cdn.myanimelist.net/images/anime/1386/...\n",
       "24901    https://cdn.myanimelist.net/images/anime/1383/...\n",
       "24902    https://cdn.myanimelist.net/images/anime/1130/...\n",
       "24903    https://cdn.myanimelist.net/images/anime/1931/...\n",
       "24904    https://cdn.myanimelist.net/images/anime/1902/...\n",
       "Name: img_url, Length: 24905, dtype: object"
      ]
     },
     "execution_count": 15,
     "metadata": {},
     "output_type": "execute_result"
    }
   ],
   "source": [
    "Animes['img_url']"
   ]
  },
  {
   "cell_type": "code",
   "execution_count": 16,
   "id": "b26dea15",
   "metadata": {
    "ExecuteTime": {
     "end_time": "2024-04-18T01:52:10.903119Z",
     "start_time": "2024-04-18T01:52:10.895441Z"
    }
   },
   "outputs": [
    {
     "data": {
      "text/plain": [
       "11    https://cdn.myanimelist.net/images/anime/6/732...\n",
       "Name: img_url, dtype: object"
      ]
     },
     "execution_count": 16,
     "metadata": {},
     "output_type": "execute_result"
    }
   ],
   "source": [
    "a=Animes[Animes['Name']=='One Piece']\n",
    "a['img_url']"
   ]
  },
  {
   "cell_type": "code",
   "execution_count": 17,
   "id": "6723c5ff",
   "metadata": {
    "ExecuteTime": {
     "end_time": "2024-04-18T01:52:10.910395Z",
     "start_time": "2024-04-18T01:52:10.904570Z"
    }
   },
   "outputs": [
    {
     "data": {
      "text/plain": [
       "'Gol D. Roger was known as the \"Pirate King,\" the strongest and most infamous being to have sailed the Grand Line. The capture and execution of Roger by the World Government brought a change throughout the world. His last words before his death revealed the existence of the greatest treasure in the world, One Piece. It was this revelation that brought about the Grand Age of Pirates, men who dreamed of finding One Piece—which promises an unlimited amount of riches and fame—and quite possibly the pinnacle of glory and the title of the Pirate King.\\n\\nEnter Monkey D. Luffy, a 17-year-old boy who defies your standard definition of a pirate. Rather than the popular persona of a wicked, hardened, toothless pirate ransacking villages for fun, Luffy\\'s reason for being a pirate is one of pure wonder: the thought of an exciting adventure that leads him to intriguing people and ultimately, the promised treasure. Following in the footsteps of his childhood hero, Luffy and his crew travel across the Grand Line, experiencing crazy adventures, unveiling dark mysteries and battling strong enemies, all in order to reach the most coveted of all fortunes—One Piece.Action, Adventure, FantasyFuji TV, TAP, ShueishaToei AnimationTV'"
      ]
     },
     "execution_count": 17,
     "metadata": {},
     "output_type": "execute_result"
    }
   ],
   "source": [
    "Animes['tags'][11]"
   ]
  },
  {
   "cell_type": "code",
   "execution_count": 18,
   "id": "0ef532c4",
   "metadata": {
    "ExecuteTime": {
     "end_time": "2024-04-18T01:52:10.943872Z",
     "start_time": "2024-04-18T01:52:10.911841Z"
    }
   },
   "outputs": [
    {
     "name": "stderr",
     "output_type": "stream",
     "text": [
      "C:\\Users\\unkno\\AppData\\Local\\Temp\\ipykernel_8544\\2012984652.py:1: SettingWithCopyWarning: \n",
      "A value is trying to be set on a copy of a slice from a DataFrame.\n",
      "Try using .loc[row_indexer,col_indexer] = value instead\n",
      "\n",
      "See the caveats in the documentation: https://pandas.pydata.org/pandas-docs/stable/user_guide/indexing.html#returning-a-view-versus-a-copy\n",
      "  Animes['tags'] = Animes['tags'].apply(lambda x:x.lower())\n"
     ]
    }
   ],
   "source": [
    "Animes['tags'] = Animes['tags'].apply(lambda x:x.lower())"
   ]
  },
  {
   "cell_type": "code",
   "execution_count": 19,
   "id": "f2dd3b22",
   "metadata": {
    "ExecuteTime": {
     "end_time": "2024-04-18T01:52:13.506388Z",
     "start_time": "2024-04-18T01:52:10.946068Z"
    }
   },
   "outputs": [
    {
     "ename": "ModuleNotFoundError",
     "evalue": "No module named 'sklearn'",
     "output_type": "error",
     "traceback": [
      "\u001b[1;31m---------------------------------------------------------------------------\u001b[0m",
      "\u001b[1;31mModuleNotFoundError\u001b[0m                       Traceback (most recent call last)",
      "Cell \u001b[1;32mIn[19], line 1\u001b[0m\n\u001b[1;32m----> 1\u001b[0m \u001b[38;5;28;01mfrom\u001b[39;00m \u001b[38;5;21;01msklearn\u001b[39;00m\u001b[38;5;21;01m.\u001b[39;00m\u001b[38;5;21;01mfeature_extraction\u001b[39;00m\u001b[38;5;21;01m.\u001b[39;00m\u001b[38;5;21;01mtext\u001b[39;00m \u001b[38;5;28;01mimport\u001b[39;00m CountVectorizer\n\u001b[0;32m      2\u001b[0m cv\u001b[38;5;241m=\u001b[39mCountVectorizer(max_features\u001b[38;5;241m=\u001b[39m\u001b[38;5;241m5000\u001b[39m,stop_words\u001b[38;5;241m=\u001b[39m\u001b[38;5;124m'\u001b[39m\u001b[38;5;124menglish\u001b[39m\u001b[38;5;124m'\u001b[39m)\n",
      "\u001b[1;31mModuleNotFoundError\u001b[0m: No module named 'sklearn'"
     ]
    }
   ],
   "source": [
    "from sklearn.feature_extraction.text import CountVectorizer\n",
    "cv=CountVectorizer(max_features=5000,stop_words='english')"
   ]
  },
  {
   "cell_type": "code",
   "execution_count": null,
   "id": "64e92452",
   "metadata": {
    "ExecuteTime": {
     "end_time": "2024-04-18T01:52:14.660658Z",
     "start_time": "2024-04-18T01:52:13.506388Z"
    }
   },
   "outputs": [],
   "source": [
    "vectors = cv.fit_transform(Animes['tags']).toarray()"
   ]
  },
  {
   "cell_type": "code",
   "execution_count": null,
   "id": "65a3b89b",
   "metadata": {
    "ExecuteTime": {
     "end_time": "2024-04-18T01:52:14.669982Z",
     "start_time": "2024-04-18T01:52:14.662102Z"
    }
   },
   "outputs": [],
   "source": [
    "cv.get_feature_names_out()"
   ]
  },
  {
   "cell_type": "code",
   "execution_count": null,
   "id": "8bf2e29d",
   "metadata": {
    "ExecuteTime": {
     "end_time": "2024-04-18T01:52:15.851758Z",
     "start_time": "2024-04-18T01:52:14.671403Z"
    }
   },
   "outputs": [],
   "source": [
    "import nltk"
   ]
  },
  {
   "cell_type": "code",
   "execution_count": null,
   "id": "a06a6ba1",
   "metadata": {
    "ExecuteTime": {
     "end_time": "2024-04-18T01:52:15.857226Z",
     "start_time": "2024-04-18T01:52:15.852761Z"
    }
   },
   "outputs": [],
   "source": [
    "from nltk.stem.porter import PorterStemmer\n",
    "ps = PorterStemmer()"
   ]
  },
  {
   "cell_type": "code",
   "execution_count": null,
   "id": "b01d9d46",
   "metadata": {
    "ExecuteTime": {
     "end_time": "2024-04-18T01:52:15.865356Z",
     "start_time": "2024-04-18T01:52:15.857226Z"
    }
   },
   "outputs": [],
   "source": [
    "def stem(text):\n",
    "    y = []\n",
    "    \n",
    "    for i in text.split():\n",
    "        y.append(ps.stem(i))\n",
    "        \n",
    "    return \" \".join(y)"
   ]
  },
  {
   "cell_type": "code",
   "execution_count": null,
   "id": "75db66fa",
   "metadata": {
    "ExecuteTime": {
     "end_time": "2024-04-18T01:52:32.773830Z",
     "start_time": "2024-04-18T01:52:15.865356Z"
    }
   },
   "outputs": [],
   "source": [
    "Animes['tags'] = Animes['tags'].apply(stem)"
   ]
  },
  {
   "cell_type": "code",
   "execution_count": null,
   "id": "7e87530e",
   "metadata": {
    "ExecuteTime": {
     "end_time": "2024-04-18T01:52:32.780486Z",
     "start_time": "2024-04-18T01:52:32.775785Z"
    }
   },
   "outputs": [],
   "source": [
    "Animes['tags'][11]"
   ]
  },
  {
   "cell_type": "code",
   "execution_count": null,
   "id": "bb36ef12",
   "metadata": {
    "ExecuteTime": {
     "end_time": "2024-04-18T01:52:32.793887Z",
     "start_time": "2024-04-18T01:52:32.781515Z"
    }
   },
   "outputs": [],
   "source": [
    "ps.stem('having')"
   ]
  },
  {
   "cell_type": "code",
   "execution_count": null,
   "id": "24f90fed",
   "metadata": {
    "ExecuteTime": {
     "end_time": "2024-04-18T01:52:32.807705Z",
     "start_time": "2024-04-18T01:52:32.803561Z"
    }
   },
   "outputs": [],
   "source": [
    "from sklearn.metrics.pairwise import cosine_similarity"
   ]
  },
  {
   "cell_type": "code",
   "execution_count": null,
   "id": "88dc60bc",
   "metadata": {
    "ExecuteTime": {
     "end_time": "2024-04-18T01:53:11.097577Z",
     "start_time": "2024-04-18T01:52:32.810116Z"
    }
   },
   "outputs": [],
   "source": [
    "similarity = cosine_similarity(vectors)"
   ]
  },
  {
   "cell_type": "code",
   "execution_count": null,
   "id": "f2d38b9a",
   "metadata": {
    "ExecuteTime": {
     "end_time": "2024-04-18T01:53:11.301141Z",
     "start_time": "2024-04-18T01:53:11.194935Z"
    }
   },
   "outputs": [],
   "source": [
    "similarity[0]"
   ]
  },
  {
   "cell_type": "code",
   "execution_count": null,
   "id": "d114cba3",
   "metadata": {
    "ExecuteTime": {
     "end_time": "2024-04-18T01:53:11.322564Z",
     "start_time": "2024-04-18T01:53:11.307718Z"
    }
   },
   "outputs": [],
   "source": [
    "# def recommend(Ani):\n",
    "#     Animes_index= Animes[Animes['Name']== Ani].index[0]\n",
    "#     distances = similarity[Animes_index]\n",
    "#     Animes_list = sorted(list(enumerate(distances)),reverse=True, key=lambda x:x[1])[0:50]\n",
    "#     for i in Animes_list:\n",
    "#         print(Animes.iloc[i[0]])\n",
    "        "
   ]
  },
  {
   "cell_type": "code",
   "execution_count": null,
   "id": "f8bd249e",
   "metadata": {
    "ExecuteTime": {
     "end_time": "2024-04-18T01:53:11.368079Z",
     "start_time": "2024-04-18T01:53:11.329528Z"
    }
   },
   "outputs": [],
   "source": [
    "def recommend(Ani):\n",
    "    Animes_index = New_Anime[New_Anime['Name'] == Ani].index[0]\n",
    "    distances = similarity[Animes_index]\n",
    "    Animes_list = sorted(list(enumerate(distances)), reverse=True, key=lambda x: x[1])[0:10]\n",
    "    \n",
    "    recommended_animes = []  # List to store recommended anime information\n",
    "    \n",
    "    for i in Animes_list:\n",
    "        recommended_anime_index = New_Anime.iloc[i[0]].name\n",
    "        recommended_anime_info = New_Anime.loc[recommended_anime_index].values\n",
    "        recommended_animes.append(list(recommended_anime_info))\n",
    "\n",
    "    return recommended_animes\n"
   ]
  },
  {
   "cell_type": "code",
   "execution_count": null,
   "id": "bf68a1fb",
   "metadata": {
    "ExecuteTime": {
     "end_time": "2024-04-18T01:53:11.659051Z",
     "start_time": "2024-04-18T01:53:11.372744Z"
    }
   },
   "outputs": [],
   "source": [
    "recommend('One Piece')"
   ]
  },
  {
   "cell_type": "code",
   "execution_count": 20,
   "id": "4a6c19cd",
   "metadata": {
    "ExecuteTime": {
     "end_time": "2024-04-18T01:53:13.062931Z",
     "start_time": "2024-04-18T01:53:11.662603Z"
    }
   },
   "outputs": [
    {
     "ename": "NameError",
     "evalue": "name 'recommended_animes' is not defined",
     "output_type": "error",
     "traceback": [
      "\u001b[1;31m---------------------------------------------------------------------------\u001b[0m",
      "\u001b[1;31mNameError\u001b[0m                                 Traceback (most recent call last)",
      "Cell \u001b[1;32mIn[20], line 1\u001b[0m\n\u001b[1;32m----> 1\u001b[0m \u001b[43mrecommended_animes\u001b[49m[\u001b[38;5;241m2\u001b[39m]\n",
      "\u001b[1;31mNameError\u001b[0m: name 'recommended_animes' is not defined"
     ]
    }
   ],
   "source": [
    "recommended_animes[2]"
   ]
  },
  {
   "cell_type": "code",
   "execution_count": 21,
   "id": "ae7ea835",
   "metadata": {
    "ExecuteTime": {
     "end_time": "2024-04-18T01:53:13.066180Z",
     "start_time": "2024-04-18T01:53:13.066180Z"
    }
   },
   "outputs": [],
   "source": [
    "import pickle"
   ]
  },
  {
   "cell_type": "code",
   "execution_count": 22,
   "id": "828ee194",
   "metadata": {
    "ExecuteTime": {
     "end_time": "2024-04-18T01:53:13.068294Z",
     "start_time": "2024-04-18T01:53:13.068294Z"
    }
   },
   "outputs": [],
   "source": [
    "pickle.dump(Animes,open(\"Processed_data/Animes_list.pkl\",\"wb\"))"
   ]
  },
  {
   "cell_type": "code",
   "execution_count": 23,
   "id": "14fd568c",
   "metadata": {
    "ExecuteTime": {
     "end_time": "2024-04-18T01:53:13.070435Z",
     "start_time": "2024-04-18T01:53:13.070435Z"
    }
   },
   "outputs": [
    {
     "ename": "NameError",
     "evalue": "name 'similarity' is not defined",
     "output_type": "error",
     "traceback": [
      "\u001b[1;31m---------------------------------------------------------------------------\u001b[0m",
      "\u001b[1;31mNameError\u001b[0m                                 Traceback (most recent call last)",
      "Cell \u001b[1;32mIn[23], line 1\u001b[0m\n\u001b[1;32m----> 1\u001b[0m pickle\u001b[38;5;241m.\u001b[39mdump(\u001b[43msimilarity\u001b[49m,\u001b[38;5;28mopen\u001b[39m(\u001b[38;5;124m\"\u001b[39m\u001b[38;5;124mProcessed_data/similarity.pkl\u001b[39m\u001b[38;5;124m\"\u001b[39m,\u001b[38;5;124m\"\u001b[39m\u001b[38;5;124mwb\u001b[39m\u001b[38;5;124m\"\u001b[39m))\n",
      "\u001b[1;31mNameError\u001b[0m: name 'similarity' is not defined"
     ]
    }
   ],
   "source": [
    "pickle.dump(similarity,open(\"Processed_data/similarity.pkl\",\"wb\"))"
   ]
  },
  {
   "cell_type": "code",
   "execution_count": 24,
   "id": "6eae1405",
   "metadata": {
    "ExecuteTime": {
     "end_time": "2024-04-18T01:53:13.071902Z",
     "start_time": "2024-04-18T01:53:13.071902Z"
    }
   },
   "outputs": [],
   "source": [
    "pickle.dump(tag,open(\"Processed_data/tag.pkl\",\"wb\"))"
   ]
  },
  {
   "cell_type": "code",
   "execution_count": 25,
   "id": "1254d9aa",
   "metadata": {
    "ExecuteTime": {
     "end_time": "2024-04-18T01:53:13.072978Z",
     "start_time": "2024-04-18T01:53:13.072978Z"
    }
   },
   "outputs": [],
   "source": [
    "pickle.dump(New_Anime,open(\"Processed_data/New_Anime.pkl\",\"wb\"))"
   ]
  },
  {
   "cell_type": "code",
   "execution_count": null,
   "id": "2af806df",
   "metadata": {},
   "outputs": [],
   "source": []
  }
 ],
 "metadata": {
  "kernelspec": {
   "display_name": "Python 3 (ipykernel)",
   "language": "python",
   "name": "python3"
  },
  "language_info": {
   "codemirror_mode": {
    "name": "ipython",
    "version": 3
   },
   "file_extension": ".py",
   "mimetype": "text/x-python",
   "name": "python",
   "nbconvert_exporter": "python",
   "pygments_lexer": "ipython3",
   "version": "3.12.1"
  },
  "toc": {
   "base_numbering": 1,
   "nav_menu": {},
   "number_sections": true,
   "sideBar": true,
   "skip_h1_title": false,
   "title_cell": "Table of Contents",
   "title_sidebar": "Contents",
   "toc_cell": false,
   "toc_position": {},
   "toc_section_display": true,
   "toc_window_display": false
  },
  "varInspector": {
   "cols": {
    "lenName": 16,
    "lenType": 16,
    "lenVar": 40
   },
   "kernels_config": {
    "python": {
     "delete_cmd_postfix": "",
     "delete_cmd_prefix": "del ",
     "library": "var_list.py",
     "varRefreshCmd": "print(var_dic_list())"
    },
    "r": {
     "delete_cmd_postfix": ") ",
     "delete_cmd_prefix": "rm(",
     "library": "var_list.r",
     "varRefreshCmd": "cat(var_dic_list()) "
    }
   },
   "types_to_exclude": [
    "module",
    "function",
    "builtin_function_or_method",
    "instance",
    "_Feature"
   ],
   "window_display": false
  }
 },
 "nbformat": 4,
 "nbformat_minor": 5
}
